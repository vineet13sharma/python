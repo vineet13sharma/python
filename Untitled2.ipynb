{
 "cells": [
  {
   "cell_type": "code",
   "execution_count": 5,
   "id": "99f90dbc",
   "metadata": {},
   "outputs": [],
   "source": [
    "from random import shuffle"
   ]
  },
  {
   "cell_type": "code",
   "execution_count": 6,
   "id": "5f59dfaa",
   "metadata": {},
   "outputs": [],
   "source": [
    "example =[1,2,3,4,5]"
   ]
  },
  {
   "cell_type": "code",
   "execution_count": 7,
   "id": "d1436791",
   "metadata": {},
   "outputs": [],
   "source": [
    "def shuffle_list(mylist):\n",
    "    shuffle(mylist)\n",
    "    return mylist"
   ]
  },
  {
   "cell_type": "code",
   "execution_count": 29,
   "id": "a13d2b31",
   "metadata": {},
   "outputs": [],
   "source": [
    "result = shuffle_list(example)"
   ]
  },
  {
   "cell_type": "code",
   "execution_count": 30,
   "id": "206dedf3",
   "metadata": {},
   "outputs": [
    {
     "data": {
      "text/plain": [
       "[1, 4, 5, 2, 3]"
      ]
     },
     "execution_count": 30,
     "metadata": {},
     "output_type": "execute_result"
    }
   ],
   "source": [
    "result"
   ]
  },
  {
   "cell_type": "code",
   "execution_count": 31,
   "id": "c82cb830",
   "metadata": {},
   "outputs": [],
   "source": [
    "def myfunc(name):\n",
    "    print('My name is {}'.format(name))\n",
    "    "
   ]
  },
  {
   "cell_type": "code",
   "execution_count": 32,
   "id": "afae2421",
   "metadata": {},
   "outputs": [
    {
     "name": "stdout",
     "output_type": "stream",
     "text": [
      "My name is Jose\n"
     ]
    }
   ],
   "source": [
    "myfunc('Jose') "
   ]
  },
  {
   "cell_type": "code",
   "execution_count": 15,
   "id": "b2783140",
   "metadata": {},
   "outputs": [],
   "source": [
    "\n",
    "def myfunc(*args):\n",
    "    mylist =[1,2,3,4,5,6,7,8]\n",
    "    for num in list(args):\n",
    "        if num%2==0:\n",
    "            mylist.append(num)\n",
    "    return mylist"
   ]
  },
  {
   "cell_type": "code",
   "execution_count": 19,
   "id": "3812a62f",
   "metadata": {},
   "outputs": [],
   "source": [
    "def myfunc(*args):\n",
    "    res=\"\"\n",
    "    i=0\n",
    "    for str in args:\n",
    "        if i%2==0:\n",
    "            res=res+ str.upper()\n",
    "        else:\n",
    "            res=res+ str.lower()\n",
    "            i+=1\n",
    "    return res"
   ]
  },
  {
   "cell_type": "code",
   "execution_count": 18,
   "id": "6d2c4225",
   "metadata": {},
   "outputs": [
    {
     "ename": "NameError",
     "evalue": "name 'res' is not defined",
     "output_type": "error",
     "traceback": [
      "\u001b[1;31m---------------------------------------------------------------------------\u001b[0m",
      "\u001b[1;31mNameError\u001b[0m                                 Traceback (most recent call last)",
      "\u001b[1;32m~\\AppData\\Local\\Temp/ipykernel_6252/1263904471.py\u001b[0m in \u001b[0;36m<module>\u001b[1;34m\u001b[0m\n\u001b[1;32m----> 1\u001b[1;33m \u001b[0mprint\u001b[0m\u001b[1;33m(\u001b[0m\u001b[0mres\u001b[0m\u001b[1;33m)\u001b[0m\u001b[1;33m\u001b[0m\u001b[1;33m\u001b[0m\u001b[0m\n\u001b[0m",
      "\u001b[1;31mNameError\u001b[0m: name 'res' is not defined"
     ]
    }
   ],
   "source": [
    "print(res)\n"
   ]
  },
  {
   "cell_type": "code",
   "execution_count": 24,
   "id": "01507492",
   "metadata": {},
   "outputs": [],
   "source": [
    "def up_low(s):\n",
    "    upper=0 \n",
    "    lower=0\n",
    "    for c in s:\n",
    "        if c.isupper():\n",
    "            upper+=1\n",
    "        elif c.islower():\n",
    "            lower+=1\n",
    "    \n",
    "    print(\"Original String : \", s)\n",
    "    print(\"No. of Upper case characters : {} \".format(upper))\n",
    "    print(\"No. of Lower case Characters : {} \".format(lower))"
   ]
  },
  {
   "cell_type": "code",
   "execution_count": 25,
   "id": "fee375d0",
   "metadata": {},
   "outputs": [
    {
     "name": "stdout",
     "output_type": "stream",
     "text": [
      "Original String :  Hello Kya Haal Hai\n",
      "No. of Upper case characters : 4 \n",
      "No. of Lower case Characters : 11 \n"
     ]
    }
   ],
   "source": [
    "s=\"Hello Kya Haal Hai\"\n",
    "up_low(s)"
   ]
  },
  {
   "cell_type": "code",
   "execution_count": null,
   "id": "ddd8d356",
   "metadata": {},
   "outputs": [],
   "source": []
  }
 ],
 "metadata": {
  "kernelspec": {
   "display_name": "Python 3 (ipykernel)",
   "language": "python",
   "name": "python3"
  },
  "language_info": {
   "codemirror_mode": {
    "name": "ipython",
    "version": 3
   },
   "file_extension": ".py",
   "mimetype": "text/x-python",
   "name": "python",
   "nbconvert_exporter": "python",
   "pygments_lexer": "ipython3",
   "version": "3.9.7"
  }
 },
 "nbformat": 4,
 "nbformat_minor": 5
}
